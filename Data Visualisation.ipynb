{
 "cells": [
  {
   "cell_type": "code",
   "execution_count": 2,
   "metadata": {},
   "outputs": [
    {
     "name": "stdout",
     "output_type": "stream",
     "text": [
      "Your pin is incorrect\n",
      "You have entered wrong pin\n"
     ]
    }
   ],
   "source": [
    "class Atm:\n",
    "     # constructor\n",
    "     def __init__(self):\n",
    "          self.pin = ''\n",
    "          self.__balance = 0\n",
    "          self.menu()  # Calling menu function\n",
    "          \n",
    "     def __menu(self):  \n",
    "          user_input = input(\"\"\"\n",
    "                Hi how can I help you?\n",
    "                1. Press 1 to create pin\n",
    "                2. Press 2 to change pin\n",
    "                3. Press 3 to check balance\n",
    "                4. Press 4 to withdraw \n",
    "                5. Anything else to exit\n",
    "                \"\"\")\n",
    "          if user_input == '1':\n",
    "               # create pin\n",
    "               self.create_pin()\n",
    "          elif user_input == '2':\n",
    "               # change pin\n",
    "               self.change_pin()\n",
    "               pass\n",
    "          elif user_input == '3':\n",
    "               # check balance\n",
    "               self.check_balance()\n",
    "               pass\n",
    "          elif user_input == '4':\n",
    "               # withdraw\n",
    "               self.withdraw()\n",
    "               pass\n",
    "          else:\n",
    "               exit()\n",
    "               \n",
    "     def create_pin(self): \n",
    "          user_pin = input(\"Enter your pin\")\n",
    "          self.pin = user_pin \n",
    "          \n",
    "          user_balance = int(input(\"Enter balance\"))  \n",
    "          self.__balance = user_balance \n",
    "          print('Pin created successfully') \n",
    "          self.menu()\n",
    "     def change_pin(self): \n",
    "          old_pin = input(\"Enter your old pin\")\n",
    "          if old_pin == self.pin:\n",
    "               # let him change the pin\n",
    "               new_pin = input(\"Enter new pin\")\n",
    "               self.pin = new_pin\n",
    "               print('pin change successful')\n",
    "               self.menu()\n",
    "          else:\n",
    "               print('you can not change your pin') \n",
    "               self.menu() \n",
    "               \n",
    "     def check_balance(self):\n",
    "          user_pin = input(\"Enter your pin\")\n",
    "          if user_pin == self.pin:\n",
    "               print(\"Your balance is \", self.__balance)\n",
    "          else:\n",
    "               print('You have entered wrong pin')\n",
    "          \n",
    "     def withdraw(self):\n",
    "          user_pin = input(\"Enter the pin\")\n",
    "          if user_pin == self.pin:\n",
    "               print(\"Your can withdraw the money \")\n",
    "               amount = int(input(\"Enter the amount\"))\n",
    "               if amount <= self.__balance:\n",
    "                    self.__balance = self.__balance - amount\n",
    "                    print('Withdrawl successful.balance is', self.balance) \n",
    "               else:\n",
    "                    print('You have not sufficient balance')\n",
    "          else:\n",
    "               print(\"Your pin is incorrect\")\n",
    "               self.menu()\n",
    "                         \n",
    "obj = Atm()"
   ]
  },
  {
   "cell_type": "code",
   "execution_count": null,
   "metadata": {},
   "outputs": [],
   "source": [
    "obj."
   ]
  },
  {
   "cell_type": "code",
   "execution_count": 2,
   "metadata": {},
   "outputs": [
    {
     "name": "stdout",
     "output_type": "stream",
     "text": [
      "Pin created successfully\n",
      "Your can withdraw the money \n",
      "Withdrawl successful.balance is 9000\n"
     ]
    }
   ],
   "source": [
    "obj.create_pin()\n",
    "obj.balance = 'hehehe'"
   ]
  },
  {
   "cell_type": "code",
   "execution_count": 3,
   "metadata": {},
   "outputs": [
    {
     "name": "stdout",
     "output_type": "stream",
     "text": [
      "Your can withdraw the money \n"
     ]
    },
    {
     "ename": "TypeError",
     "evalue": "'<=' not supported between instances of 'int' and 'str'",
     "output_type": "error",
     "traceback": [
      "\u001b[1;31m---------------------------------------------------------------------------\u001b[0m",
      "\u001b[1;31mTypeError\u001b[0m                                 Traceback (most recent call last)",
      "Cell \u001b[1;32mIn[3], line 1\u001b[0m\n\u001b[1;32m----> 1\u001b[0m \u001b[43mobj\u001b[49m\u001b[38;5;241;43m.\u001b[39;49m\u001b[43mwithdraw\u001b[49m\u001b[43m(\u001b[49m\u001b[43m)\u001b[49m\n",
      "Cell \u001b[1;32mIn[1], line 67\u001b[0m, in \u001b[0;36mAtm.withdraw\u001b[1;34m(self)\u001b[0m\n\u001b[0;32m     65\u001b[0m \u001b[38;5;28mprint\u001b[39m(\u001b[38;5;124m\"\u001b[39m\u001b[38;5;124mYour can withdraw the money \u001b[39m\u001b[38;5;124m\"\u001b[39m)\n\u001b[0;32m     66\u001b[0m amount \u001b[38;5;241m=\u001b[39m \u001b[38;5;28mint\u001b[39m(\u001b[38;5;28minput\u001b[39m(\u001b[38;5;124m\"\u001b[39m\u001b[38;5;124mEnter the amount\u001b[39m\u001b[38;5;124m\"\u001b[39m))\n\u001b[1;32m---> 67\u001b[0m \u001b[38;5;28;01mif\u001b[39;00m \u001b[43mamount\u001b[49m\u001b[43m \u001b[49m\u001b[38;5;241;43m<\u001b[39;49m\u001b[38;5;241;43m=\u001b[39;49m\u001b[43m \u001b[49m\u001b[38;5;28;43mself\u001b[39;49m\u001b[38;5;241;43m.\u001b[39;49m\u001b[43mbalance\u001b[49m:\n\u001b[0;32m     68\u001b[0m      \u001b[38;5;28mself\u001b[39m\u001b[38;5;241m.\u001b[39mbalance \u001b[38;5;241m=\u001b[39m \u001b[38;5;28mself\u001b[39m\u001b[38;5;241m.\u001b[39mbalance \u001b[38;5;241m-\u001b[39m amount\n\u001b[0;32m     69\u001b[0m      \u001b[38;5;28mprint\u001b[39m(\u001b[38;5;124m'\u001b[39m\u001b[38;5;124mWithdrawl successful.balance is\u001b[39m\u001b[38;5;124m'\u001b[39m, \u001b[38;5;28mself\u001b[39m\u001b[38;5;241m.\u001b[39mbalance) \n",
      "\u001b[1;31mTypeError\u001b[0m: '<=' not supported between instances of 'int' and 'str'"
     ]
    }
   ],
   "source": [
    "# Here someone is able to access my code variable \n",
    "# and he is easily doing the changes so that's why \n",
    "# The code is giving the error. so for avoiding this \n",
    "# problem make all the variable private in python \n",
    "# we use __ double underscore to make it private\n",
    "obj.withdraw()"
   ]
  },
  {
   "cell_type": "code",
   "execution_count": null,
   "metadata": {},
   "outputs": [],
   "source": []
  },
  {
   "cell_type": "code",
   "execution_count": 2,
   "metadata": {},
   "outputs": [
    {
     "name": "stdout",
     "output_type": "stream",
     "text": [
      "<class '__main__.Fraction'>\n",
      "3/2\n",
      "1/2\n",
      "8/4\n",
      "4/4\n"
     ]
    }
   ],
   "source": [
    "class Fraction:\n",
    "     # Parameterised Constructor\n",
    "     def __init__(self, x, y):\n",
    "          self.num = x\n",
    "          self.den = y\n",
    "          # Magic method \n",
    "     def __str__(self):\n",
    "          # return \"{}/{}\".format(self.num, self.den)\n",
    "          return f\"{self.num}/{self.den}\"\n",
    "     \n",
    "     # Magic Method\n",
    "     def __add__(self, other):\n",
    "          new_num = self.num*other.den + other.num*self.den\n",
    "          new_den = self.den*other.den\n",
    "          # return f\"{new_num}/{new_den}\"\n",
    "          return \"{}/{}\".format(new_num, new_den)\n",
    "     \n",
    "     # Magic Method\n",
    "     def __sub__(self, other):\n",
    "          new_num = self.num*other.den - other.num*self.den\n",
    "          new_den = self.den*other.den\n",
    "          return f\"{new_num}/{new_den}\"\n",
    "     \n",
    "     # def _mul_(self, other):\n",
    "     #      new_num = self.num*other.num\n",
    "     #      new_den = self.den*other.den\n",
    "     #      return \"{}/{}\".format(new_num, new_den)\n",
    "          \n",
    "fr1 = Fraction(3,2)\n",
    "fr2 = Fraction(1,2)\n",
    "print(type(fr1))\n",
    "print(fr1)\n",
    "print(fr2)\n",
    "print(fr1+fr2)\n",
    "print(fr1-fr2)\n"
   ]
  },
  {
   "cell_type": "code",
   "execution_count": 3,
   "metadata": {},
   "outputs": [
    {
     "name": "stdout",
     "output_type": "stream",
     "text": [
      "The length of rectangle is : 3\n",
      "The width of rectanlge is : 4 \n",
      "The perimeter of rectangle is : 14\n",
      "The area of rectangle is : 12\n"
     ]
    }
   ],
   "source": [
    "class Rectangle:\n",
    "     def __init__(self, length, width):\n",
    "          self.length = length\n",
    "          self.width = width\n",
    "          self.perimeter = 2*(length+width)\n",
    "          self.area = (length * width)\n",
    "          \n",
    "     def display(self):\n",
    "          return f\"The length of rectangle is : {self.length}\\nThe width of rectanlge is : {self.width} \"\n",
    "     \n",
    "     def Perimeter(self):\n",
    "          return f\"The perimeter of rectangle is : {self.perimeter}\"\n",
    "     \n",
    "     def Area(self):\n",
    "          return f\"The area of rectangle is : {self.area}\"\n",
    "     \n",
    "my_rectangle = Rectangle(3, 4)\n",
    "print(my_rectangle.display())\n",
    "print(my_rectangle.Perimeter())\n",
    "print(my_rectangle.Area())"
   ]
  },
  {
   "cell_type": "code",
   "execution_count": 4,
   "metadata": {},
   "outputs": [
    {
     "name": "stdout",
     "output_type": "stream",
     "text": [
      "The factorial of 5 (iterative) is: 120\n"
     ]
    }
   ],
   "source": [
    "class Factorial:\n",
    "    def __init__(self):\n",
    "        pass\n",
    "\n",
    "    @staticmethod\n",
    "    def calculate_iterative(n):\n",
    "        result = 1\n",
    "        for i in range(1, n + 1):\n",
    "            result *= i\n",
    "        return result\n",
    "\n",
    "# Example usage\n",
    "if __name__ == \"__main__\":\n",
    "    # Create an instance of the Factorial class (not necessary for static methods)\n",
    "    factorial_calculator = Factorial()\n",
    "\n",
    "    # Calculate factorial using iterative method\n",
    "    result_iterative = factorial_calculator.calculate_iterative(5)\n",
    "    print(f\"The factorial of 5 (iterative) is: {result_iterative}\")\n"
   ]
  },
  {
   "cell_type": "code",
   "execution_count": 5,
   "metadata": {},
   "outputs": [
    {
     "name": "stdout",
     "output_type": "stream",
     "text": [
      "The natural sum is : 15\n"
     ]
    }
   ],
   "source": [
    "class NaturalSum:\n",
    "     def __init__(self):\n",
    "          pass\n",
    "     @staticmethod\n",
    "     def calculate_Sum(num):\n",
    "          sum = 0\n",
    "          for i in range(1, num + 1):\n",
    "               sum = sum + i\n",
    "          return sum\n",
    "     \n",
    "if __name__ == \"__main__\":\n",
    "     ans = NaturalSum()\n",
    "     result = ans.calculate_Sum(5)\n",
    "     print(f\"The natural sum is : {result}\")"
   ]
  },
  {
   "cell_type": "code",
   "execution_count": 7,
   "metadata": {},
   "outputs": [
    {
     "name": "stdout",
     "output_type": "stream",
     "text": [
      "Number is prime :\n",
      "\n"
     ]
    }
   ],
   "source": [
    "class Calculation:\n",
    "     def __init__(self):\n",
    "          pass\n",
    "     \n",
    "     @staticmethod\n",
    "     def testPrime(n):\n",
    "          for i in range(2, n):\n",
    "               if n % i == 0:\n",
    "                    return False\n",
    "          return True\n",
    "     \n",
    "if __name__ == \"__main__\":\n",
    "     n = int(input(\"Enter n : \\n\"))\n",
    "     Prime = Calculation.testPrime(n)\n",
    "     if Prime:\n",
    "          print(\"Number is prime :\\n\")\n",
    "     else:\n",
    "          print(\"Number is not prime: \\n\")\n",
    "     "
   ]
  },
  {
   "cell_type": "code",
   "execution_count": 1,
   "metadata": {},
   "outputs": [
    {
     "name": "stdout",
     "output_type": "stream",
     "text": [
      "Withdrawal of 700 successful.\n",
      "Deposit of 1000 successful.\n",
      "Account Number : 2178514584\n",
      "Account Holder Name : Mandy\n",
      "Account Balance : 3100\n",
      "Bank fees of 155.0 applied.\n"
     ]
    }
   ],
   "source": [
    "# Bank Account\n",
    "class BankAccount:\n",
    "     def __init__(self, accountNumber, name, balance):\n",
    "          self.accountNumber = accountNumber\n",
    "          self.name = name\n",
    "          self.balance = balance\n",
    "          \n",
    "     def deposit(self, amount):\n",
    "          if amount > 0:\n",
    "               self.balance += amount\n",
    "               print(f'Deposit of {amount} successful.')\n",
    "          else:\n",
    "               print('Deposit amount must be greater than zero.')\n",
    "               \n",
    "     def withdrawal(self, amount):\n",
    "          if 0 < amount <= self.balance:\n",
    "               self.balance -= amount\n",
    "               print(f'Withdrawal of {amount} successful.')\n",
    "          else:\n",
    "               print('Insufficient funds for withdrawal.')\n",
    "               \n",
    "     def bankFees(self):\n",
    "          fee = self.balance * 0.05\n",
    "          self.balance -= fee\n",
    "          print(f'Bank fees of {fee} applied.')\n",
    "          \n",
    "     def display(self):\n",
    "          print(f'Account Number : {self.accountNumber}')\n",
    "          print(f'Account Holder Name : {self.name}')\n",
    "          print(f'Account Balance : {self.balance}')\n",
    "          \n",
    "newAccount = BankAccount(2178514584, 'Mandy', 2800)\n",
    "newAccount.withdrawal(700)\n",
    "newAccount.deposit(1000)\n",
    "newAccount.display()\n",
    "newAccount.bankFees()\n",
    "     "
   ]
  },
  {
   "cell_type": "code",
   "execution_count": 4,
   "metadata": {},
   "outputs": [
    {
     "name": "stdout",
     "output_type": "stream",
     "text": [
      "Welcome to the fruit quiz\n",
      "What is the color of banana\n",
      "Galat Jawab\n"
     ]
    }
   ],
   "source": [
    "# Flash card\n",
    "import random\n",
    "class FlashCard:\n",
    "     def __init__(self):\n",
    "          self.__fruits = {\n",
    "               'apple' : 'red',\n",
    "               'banana' : 'yellow',\n",
    "               'watermelon' : 'green',\n",
    "               'strawberry' : 'pink',\n",
    "               'guava' : 'green'\n",
    "          }\n",
    "          \n",
    "     def quiz(self):\n",
    "          while True:\n",
    "               fruit ,color = random.choices(list(self.__fruits.items()))[0]\n",
    "               print('What is the color of {}'.format(fruit))\n",
    "               user_answer = input()\n",
    "               if user_answer.lower() == color:\n",
    "                    print('Sahi Jawab')\n",
    "               else:\n",
    "                    print('Galat Jawab')\n",
    "                    \n",
    "               option = int(input('Enter 0 to play again 1 to exit'))\n",
    "               if option:\n",
    "                    break\n",
    "print('Welcome to the fruit quiz')\n",
    "fc = FlashCard()\n",
    "fc.quiz()\n",
    "               \n",
    "          "
   ]
  },
  {
   "cell_type": "code",
   "execution_count": 8,
   "metadata": {},
   "outputs": [
    {
     "name": "stdout",
     "output_type": "stream",
     "text": [
      "Factorial of 5: 120\n",
      "Sum of the first 5 integers: 15\n",
      "Is 7 prime? True\n",
      "Are 4 and 9 prime to each other? False\n",
      "\n",
      "Multiplication Tables:\n",
      "5 x 1 = 5\n",
      "5 x 2 = 10\n",
      "5 x 3 = 15\n",
      "5 x 4 = 20\n",
      "5 x 5 = 25\n",
      "5 x 6 = 30\n",
      "5 x 7 = 35\n",
      "5 x 8 = 40\n",
      "5 x 9 = 45\n",
      "5 x 10 = 50\n",
      "\n",
      "All Multiplication Tables:\n",
      "1 x 1 = 1\n",
      "1 x 2 = 2\n",
      "1 x 3 = 3\n",
      "1 x 4 = 4\n",
      "1 x 5 = 5\n",
      "1 x 6 = 6\n",
      "1 x 7 = 7\n",
      "1 x 8 = 8\n",
      "1 x 9 = 9\n",
      "1 x 10 = 10\n",
      "2 x 1 = 2\n",
      "2 x 2 = 4\n",
      "2 x 3 = 6\n",
      "2 x 4 = 8\n",
      "2 x 5 = 10\n",
      "2 x 6 = 12\n",
      "2 x 7 = 14\n",
      "2 x 8 = 16\n",
      "2 x 9 = 18\n",
      "2 x 10 = 20\n",
      "3 x 1 = 3\n",
      "3 x 2 = 6\n",
      "3 x 3 = 9\n",
      "3 x 4 = 12\n",
      "3 x 5 = 15\n",
      "3 x 6 = 18\n",
      "3 x 7 = 21\n",
      "3 x 8 = 24\n",
      "3 x 9 = 27\n",
      "3 x 10 = 30\n",
      "4 x 1 = 4\n",
      "4 x 2 = 8\n",
      "4 x 3 = 12\n",
      "4 x 4 = 16\n",
      "4 x 5 = 20\n",
      "4 x 6 = 24\n",
      "4 x 7 = 28\n",
      "4 x 8 = 32\n",
      "4 x 9 = 36\n",
      "4 x 10 = 40\n",
      "5 x 1 = 5\n",
      "5 x 2 = 10\n",
      "5 x 3 = 15\n",
      "5 x 4 = 20\n",
      "5 x 5 = 25\n",
      "5 x 6 = 30\n",
      "5 x 7 = 35\n",
      "5 x 8 = 40\n",
      "5 x 9 = 45\n",
      "5 x 10 = 50\n",
      "6 x 1 = 6\n",
      "6 x 2 = 12\n",
      "6 x 3 = 18\n",
      "6 x 4 = 24\n",
      "6 x 5 = 30\n",
      "6 x 6 = 36\n",
      "6 x 7 = 42\n",
      "6 x 8 = 48\n",
      "6 x 9 = 54\n",
      "6 x 10 = 60\n",
      "7 x 1 = 7\n",
      "7 x 2 = 14\n",
      "7 x 3 = 21\n",
      "7 x 4 = 28\n",
      "7 x 5 = 35\n",
      "7 x 6 = 42\n",
      "7 x 7 = 49\n",
      "7 x 8 = 56\n",
      "7 x 9 = 63\n",
      "7 x 10 = 70\n",
      "8 x 1 = 8\n",
      "8 x 2 = 16\n",
      "8 x 3 = 24\n",
      "8 x 4 = 32\n",
      "8 x 5 = 40\n",
      "8 x 6 = 48\n",
      "8 x 7 = 56\n",
      "8 x 8 = 64\n",
      "8 x 9 = 72\n",
      "8 x 10 = 80\n",
      "9 x 1 = 9\n",
      "9 x 2 = 18\n",
      "9 x 3 = 27\n",
      "9 x 4 = 36\n",
      "9 x 5 = 45\n",
      "9 x 6 = 54\n",
      "9 x 7 = 63\n",
      "9 x 8 = 72\n",
      "9 x 9 = 81\n",
      "9 x 10 = 90\n",
      "\n",
      "Divisors of 12: [1, 2, 3, 4, 6, 12]\n",
      "Prime Divisors of 12: [2, 3]\n"
     ]
    }
   ],
   "source": [
    "class Computation:\n",
    "    def __init__(self):\n",
    "        pass\n",
    "\n",
    "    def factorial(self, n):\n",
    "        result = 1\n",
    "        for i in range(1, n + 1):\n",
    "            result *= i\n",
    "        return result\n",
    "\n",
    "    def natural_sum(self, n):\n",
    "        return sum(range(1, n + 1))\n",
    "\n",
    "    def test_prime(self, n):\n",
    "        if n < 2:\n",
    "            return False\n",
    "        for i in range(2, int(n**0.5) + 1):\n",
    "            if n % i == 0:\n",
    "                return False\n",
    "        return True\n",
    "\n",
    "    def test_primes(self, a, b):\n",
    "        return self.test_prime(a) and self.test_prime(b)\n",
    "\n",
    "    def table_mult(self, n):\n",
    "        for i in range(1, 11):\n",
    "            print(f\"{n} x {i} = {n*i}\")\n",
    "\n",
    "    @staticmethod\n",
    "    def all_tables_mult():\n",
    "        for i in range(1, 10):\n",
    "            Computation().table_mult(i)\n",
    "\n",
    "    @staticmethod\n",
    "    def list_div(n):\n",
    "        divisors = [i for i in range(1, n + 1) if n % i == 0]\n",
    "        return divisors\n",
    "\n",
    "    @staticmethod\n",
    "    def list_div_prim(n):\n",
    "        divisors = Computation.list_div(n)\n",
    "        prime_divisors = [d for d in divisors if Computation().test_prime(d)]\n",
    "        return prime_divisors\n",
    "\n",
    "\n",
    "# Example usage\n",
    "if __name__ == \"__main__\":\n",
    "    computation = Computation()\n",
    "\n",
    "    # Test the methods\n",
    "    print(f\"Factorial of 5: {computation.factorial(5)}\")\n",
    "    print(f\"Sum of the first 5 integers: {computation.natural_sum(5)}\")\n",
    "    print(f\"Is 7 prime? {computation.test_prime(7)}\")\n",
    "    print(f\"Are 4 and 9 prime to each other? {computation.test_primes(4, 9)}\")\n",
    "\n",
    "    print(\"\\nMultiplication Tables:\")\n",
    "    computation.table_mult(5)\n",
    "\n",
    "    print(\"\\nAll Multiplication Tables:\")\n",
    "    Computation.all_tables_mult()\n",
    "\n",
    "    print(\"\\nDivisors of 12:\", computation.list_div(12))\n",
    "    print(\"Prime Divisors of 12:\", computation.list_div_prim(12))\n"
   ]
  },
  {
   "cell_type": "code",
   "execution_count": 5,
   "metadata": {},
   "outputs": [
    {
     "name": "stdout",
     "output_type": "stream",
     "text": [
      "apple\n",
      "red\n"
     ]
    }
   ],
   "source": [
    "import random \n",
    "d = {\n",
    "     'apple' : 'red',\n",
    "     'banana' : 'yellow',\n",
    "     'watermelon' : 'green',\n",
    "     'strawberry' : 'pink',\n",
    "     'guava' : 'green'\n",
    "     }\n",
    "fruit , color = random.choices(list(d.items()))[0]\n",
    "print(fruit)\n",
    "print(color)\n"
   ]
  },
  {
   "cell_type": "code",
   "execution_count": 9,
   "metadata": {},
   "outputs": [
    {
     "name": "stdout",
     "output_type": "stream",
     "text": [
      "Factorial of 5: 120\n",
      "Sum of the first 10 integers: 55\n",
      "Is 7 prime? True\n"
     ]
    }
   ],
   "source": [
    "class Computation:\n",
    "    def __init__(self):\n",
    "        pass\n",
    "\n",
    "    def factorial(self, n):\n",
    "        \"\"\"Calculate the factorial of an integer n.\"\"\"\n",
    "        result = 1\n",
    "        for i in range(1, n + 1):\n",
    "            result *= i\n",
    "        return result\n",
    "\n",
    "    def natural_sum(self, n):\n",
    "        \"\"\"Calculate the sum of the first n integers.\"\"\"\n",
    "        return sum(range(1, n + 1))\n",
    "\n",
    "    def test_prime(self, n):\n",
    "        \"\"\"Test if a given integer n is prime.\"\"\"\n",
    "        if n < 2:\n",
    "            return False\n",
    "        for i in range(2, int(n**0.5) + 1):\n",
    "            if n % i == 0:\n",
    "                return False\n",
    "        return True\n",
    "    \n",
    "    def testPrimes(self, a, b):\n",
    "        return {self.a}\n",
    "\n",
    "\n",
    "# Example usage\n",
    "if __name__ == \"__main__\":\n",
    "    computation = Computation()\n",
    "\n",
    "    # Test the methods\n",
    "    n_factorial = 5\n",
    "    n_sum = 10\n",
    "    n_prime = 7\n",
    "\n",
    "    factorial_result = computation.factorial(n_factorial)\n",
    "    sum_result = computation.natural_sum(n_sum)\n",
    "    is_prime = computation.test_prime(n_prime)\n",
    "\n",
    "    print(f\"Factorial of {n_factorial}: {factorial_result}\")\n",
    "    print(f\"Sum of the first {n_sum} integers: {sum_result}\")\n",
    "    print(f\"Is {n_prime} prime? {is_prime}\")\n"
   ]
  },
  {
   "cell_type": "code",
   "execution_count": 10,
   "metadata": {},
   "outputs": [
    {
     "name": "stdout",
     "output_type": "stream",
     "text": [
      "The factorial of the number is : 120\n",
      "The natural sum of the number is : 15\n",
      "The number is prime: True.\n",
      "Are a and b prime to each other ? False\n"
     ]
    }
   ],
   "source": [
    "class Computation:\n",
    "     def __init__(self):\n",
    "          pass\n",
    "     \n",
    "     def factorial(self, n):\n",
    "          fact = 1\n",
    "          for i in range(1, n + 1):\n",
    "               fact = fact*i\n",
    "          return fact\n",
    "     \n",
    "     def Natural_sum(self, n):\n",
    "          return sum(range(1, n + 1))\n",
    "     \n",
    "     def test_prime(self, n):\n",
    "          if n < 2:\n",
    "               return False\n",
    "          for i in range(2, int(n**0.5) + 1):\n",
    "               if n % i == 0:\n",
    "                    return False\n",
    "          return True\n",
    "     \n",
    "     def test_primes(self, a, b):\n",
    "        return self.test_prime(a) and self.test_prime(b)\n",
    "     \n",
    "if __name__ == \"__main__\":\n",
    "     compute = Computation()\n",
    "     # print(f\"The factorial of the number is : {compute.factorial(5)}\")\n",
    "     # print(f\"The natural sum of the number is : {compute.Natural_sum(5)}\")\n",
    "     # print(f\"Is 7 prime? {computation.test_prime(7)}\")\n",
    "     n = int(input(\"Enter n to calculate the factorial: \\n\"))\n",
    "     print(f\"The factorial of the number is : {compute.factorial(n)}\")\n",
    "     n = int(input(\"Enter n to calculate the natural sum : \\n\"))\n",
    "     print(f\"The natural sum of the number is : {compute.Natural_sum(n)}\")\n",
    "     n = int(input(\"Enter n to find number is prime or not: \\n\"))\n",
    "     if compute.test_prime(n):\n",
    "          print(f\"The number is prime: {compute.test_prime(n)}.\")\n",
    "     else:\n",
    "          print(f\"The number is not prime:{compute.test_prime(n)}.\")\n",
    "     a = int(input(\"Enter the value of a :\\n\"))\n",
    "     b = int(input(\"Enter the value of b: \\n\"))\n",
    "     print(f\"Are a and b prime to each other ? {compute.test_primes(a, b)}\")\n",
    "     "
   ]
  },
  {
   "cell_type": "code",
   "execution_count": null,
   "metadata": {},
   "outputs": [
    {
     "name": "stdout",
     "output_type": "stream",
     "text": [
      "Factorial of 5: 120\n",
      "Sum of the first 5 integers: 15\n",
      "Is 4 prime? False\n",
      "Are 4 and 9 prime to each other? False\n"
     ]
    }
   ],
   "source": [
    "class Computation:\n",
    "    def __init__(self):\n",
    "        pass\n",
    "\n",
    "    def factorial(self, n):\n",
    "        \"\"\"Calculate the factorial of an integer n.\"\"\"\n",
    "        result = 1\n",
    "        for i in range(1, n + 1):\n",
    "            result *= i\n",
    "        return result\n",
    "\n",
    "    def natural_sum(self, n):\n",
    "        \"\"\"Calculate the sum of the first n integers.\"\"\"\n",
    "        return sum(range(1, n + 1))\n",
    "\n",
    "    def test_prime(self, n):\n",
    "        \"\"\"Test if a given integer n is prime.\"\"\"\n",
    "        if n < 2:\n",
    "            return False\n",
    "        for i in range(2, int(n**0.5) + 1):\n",
    "            if n % i == 0:\n",
    "                return False\n",
    "        return True\n",
    "\n",
    "    def test_primes(self, a, b):\n",
    "        \"\"\"Test if two numbers are prime to each other.\"\"\"\n",
    "        return self.test_prime(a) and self.test_prime(b)\n",
    "\n",
    "\n",
    "# Example usage with user input\n",
    "if __name__ == \"__main__\":\n",
    "    computation = Computation()\n",
    "\n",
    "    # Get user input for n_factorial, n_sum, n_prime, a_prime, and b_prime\n",
    "    n_factorial = int(input(\"Enter an integer for factorial calculation: \"))\n",
    "    n_sum = int(input(\"Enter an integer for natural sum calculation: \"))\n",
    "    n_prime = int(input(\"Enter an integer for primality testing: \"))\n",
    "    a_prime = int(input(\"Enter the first integer for primality testing: \"))\n",
    "    b_prime = int(input(\"Enter the second integer for primality testing: \"))\n",
    "\n",
    "    # Test the methods with user input\n",
    "    factorial_result = computation.factorial(n_factorial)\n",
    "    sum_result = computation.natural_sum(n_sum)\n",
    "    is_prime = computation.test_prime(n_prime)\n",
    "    primes_together = computation.test_primes(a_prime, b_prime)\n",
    "\n",
    "    # Display results\n",
    "    print(f\"Factorial of {n_factorial}: {factorial_result}\")\n",
    "    print(f\"Sum of the first {n_sum} integers: {sum_result}\")\n",
    "    print(f\"Is {n_prime} prime? {is_prime}\")\n",
    "    print(f\"Are {a_prime} and {b_prime} prime to each other? {primes_together}\")\n"
   ]
  },
  {
   "cell_type": "code",
   "execution_count": 11,
   "metadata": {},
   "outputs": [
    {
     "name": "stdout",
     "output_type": "stream",
     "text": [
      "21\n"
     ]
    }
   ],
   "source": [
    "def main():\n",
    "     n = int(input(\"Enter n : \\n\"))\n",
    "     sum = 0\n",
    "     for i in range(1, n+1):\n",
    "          sum  += i\n",
    "     print(sum)\n",
    "if __name__ == \"__main__\":\n",
    "     main()\n",
    "     "
   ]
  },
  {
   "cell_type": "code",
   "execution_count": 12,
   "metadata": {},
   "outputs": [
    {
     "name": "stdout",
     "output_type": "stream",
     "text": [
      "Fibonacci Numbers up to 23: [0, 1, 1, 2, 3, 5, 8, 13, 21, 34, 55, 89, 144, 233, 377, 610, 987, 1597, 2584, 4181, 6765, 10946, 17711]\n"
     ]
    }
   ],
   "source": [
    "from typing import List\n",
    "\n",
    "class FibonacciGenerator:\n",
    "    def generate_fibonacci_numbers(self, n: int) -> List[int]:\n",
    "        if n == 1:\n",
    "            return [0]\n",
    "        if n == 2:\n",
    "            return [0, 1]\n",
    "\n",
    "        ans = self.generate_fibonacci_numbers(n - 1)\n",
    "        ans.append(ans[-2] + ans[-1])\n",
    "        return ans\n",
    "\n",
    "def main():\n",
    "    fibonacci_generator = FibonacciGenerator()\n",
    "\n",
    "    # Get user input for n\n",
    "    n = int(input(\"Enter the number of Fibonacci numbers to generate: \"))\n",
    "\n",
    "    # Generate and print Fibonacci numbers\n",
    "    fibonacci_numbers = fibonacci_generator.generate_fibonacci_numbers(n)\n",
    "    print(f\"Fibonacci Numbers up to {n}: {fibonacci_numbers}\")\n",
    "\n",
    "if __name__ == \"__main__\":\n",
    "    main()\n"
   ]
  },
  {
   "cell_type": "code",
   "execution_count": 13,
   "metadata": {},
   "outputs": [
    {
     "name": "stdout",
     "output_type": "stream",
     "text": [
      "4x1 = 4\n",
      "4x2 = 8\n",
      "4x3 = 12\n",
      "4x4 = 16\n",
      "4x5 = 20\n",
      "4x6 = 24\n",
      "4x7 = 28\n",
      "4x8 = 32\n",
      "4x9 = 36\n",
      "4x10 = 40\n"
     ]
    }
   ],
   "source": [
    "\n",
    "def main():\n",
    "     n = int(input(\"Enter n : \\n\"))\n",
    "     for i in range(1, 11):\n",
    "          print(f\"{n}x{i} = {n*i}\")\n",
    "if __name__ == \"__main__\":\n",
    "     main()"
   ]
  },
  {
   "cell_type": "code",
   "execution_count": 14,
   "metadata": {},
   "outputs": [
    {
     "name": "stdout",
     "output_type": "stream",
     "text": [
      "32x1 = 32\n",
      "32x2 = 64\n",
      "32x3 = 96\n",
      "32x4 = 128\n",
      "32x5 = 160\n",
      "32x6 = 192\n",
      "32x7 = 224\n",
      "32x8 = 256\n",
      "32x9 = 288\n",
      "32x10 = 320\n"
     ]
    }
   ],
   "source": [
    "from typing import List\n",
    "class Calculate:\n",
    "     def generate_fibonacci_numbers(self, n:int)-> List[int]:\n",
    "          if n == 1:\n",
    "               return [0]\n",
    "          \n",
    "          if n == 2:\n",
    "               return [0,2]\n",
    "          \n",
    "          ans = self.generate_fibonacci_numbers(n - 1)\n",
    "          ans.append(ans[-2] + ans[-1])\n",
    "          return ans\n",
    "          \n",
    "     def main():\n",
    "          fib = Calculate()\n",
    "          n = int(input(\"Enter any number to generate fibonacci series : \\n\"))\n",
    "          print(f\"The fibonacci series of the entered number is : {fib.generate_fibonacci_numbers(n)}\")\n",
    "          \n",
    "if __name__ == \"__main__\":\n",
    "     main()"
   ]
  },
  {
   "cell_type": "code",
   "execution_count": 15,
   "metadata": {},
   "outputs": [
    {
     "name": "stdout",
     "output_type": "stream",
     "text": [
      "The reverse array is :  [3]\n"
     ]
    }
   ],
   "source": [
    "from typing import List\n",
    "\n",
    "def func(nums, start, end):\n",
    "     if start > end :\n",
    "          return \n",
    "     nums[start], nums[end] = nums[end], nums[start]\n",
    "     func(nums, start + 1, end - 1)\n",
    "     \n",
    "def reverseArray(n : int , nums : List[int])->List[int]:\n",
    "     start = 0\n",
    "     end = n - 1\n",
    "     func(nums, start, end)\n",
    "     return nums\n",
    "\n",
    "def main():\n",
    "     nums = list(map(int,input(\"Enter Space seperate Integer : \").split()))\n",
    "     n = len(nums)\n",
    "     revArray = reverseArray(n, nums)\n",
    "     print(\"The reverse array is : \", revArray)\n",
    "\n",
    "\n",
    "if __name__ == \"__main__\":\n",
    "     main()\n",
    "     "
   ]
  },
  {
   "cell_type": "code",
   "execution_count": 16,
   "metadata": {},
   "outputs": [
    {
     "name": "stdout",
     "output_type": "stream",
     "text": [
      "Reversed Array: [234]\n"
     ]
    }
   ],
   "source": [
    "from typing import List\n",
    "\n",
    "def funct(nums, start, end):\n",
    "    if start > end:\n",
    "        return\n",
    "    nums[start], nums[end] = nums[end], nums[start]\n",
    "    funct(nums, start + 1, end - 1)\n",
    "\n",
    "def reverseArray(n: int, nums: List[int]) -> List[int]:\n",
    "    start = 0\n",
    "    end = n - 1\n",
    "    funct(nums, start, end)\n",
    "    return nums\n",
    "\n",
    "def main():\n",
    "    # Get user input for the array\n",
    "    nums = list(map(int, input(\"Enter space-separated integers: \").split()))\n",
    "\n",
    "    # Get the length of the array\n",
    "    n = len(nums)\n",
    "\n",
    "    # Reverse the array using the reverseArray function\n",
    "    reversed_array = reverseArray(n, nums)\n",
    "\n",
    "    # Print the reversed array\n",
    "    print(\"Reversed Array:\", reversed_array)\n",
    "\n",
    "if __name__ == \"__main__\":\n",
    "    main()\n"
   ]
  },
  {
   "cell_type": "markdown",
   "metadata": {},
   "source": [
    "# Instance Variable "
   ]
  },
  {
   "cell_type": "code",
   "execution_count": 17,
   "metadata": {},
   "outputs": [],
   "source": [
    "#instance var -> take the help of python tutor\n",
    "# instance variable is a special kind of variable\n",
    "# whose value is depend on the object\n",
    "class Person:\n",
    "     def __init__(self, name_input, country_input):\n",
    "          self.name = name_input\n",
    "          self.country = country_input\n",
    "          \n",
    "p1 = Person('Maruf', 'India')\n",
    "p2 = Person('Steve', 'Australia')"
   ]
  },
  {
   "cell_type": "code",
   "execution_count": 18,
   "metadata": {},
   "outputs": [
    {
     "data": {
      "text/plain": [
       "'Steve'"
      ]
     },
     "execution_count": 18,
     "metadata": {},
     "output_type": "execute_result"
    }
   ],
   "source": [
    "p2.name"
   ]
  },
  {
   "cell_type": "code",
   "execution_count": 19,
   "metadata": {},
   "outputs": [
    {
     "data": {
      "text/plain": [
       "'Maruf'"
      ]
     },
     "execution_count": 19,
     "metadata": {},
     "output_type": "execute_result"
    }
   ],
   "source": [
    "p1.name"
   ]
  },
  {
   "cell_type": "code",
   "execution_count": 20,
   "metadata": {},
   "outputs": [
    {
     "data": {
      "text/plain": [
       "'India'"
      ]
     },
     "execution_count": 20,
     "metadata": {},
     "output_type": "execute_result"
    }
   ],
   "source": [
    "p1.country"
   ]
  },
  {
   "cell_type": "code",
   "execution_count": 21,
   "metadata": {},
   "outputs": [
    {
     "data": {
      "text/plain": [
       "'Australia'"
      ]
     },
     "execution_count": 21,
     "metadata": {},
     "output_type": "execute_result"
    }
   ],
   "source": [
    "p2.country"
   ]
  },
  {
   "cell_type": "code",
   "execution_count": null,
   "metadata": {},
   "outputs": [],
   "source": []
  }
 ],
 "metadata": {
  "kernelspec": {
   "display_name": "Python 3",
   "language": "python",
   "name": "python3"
  },
  "language_info": {
   "codemirror_mode": {
    "name": "ipython",
    "version": 3
   },
   "file_extension": ".py",
   "mimetype": "text/x-python",
   "name": "python",
   "nbconvert_exporter": "python",
   "pygments_lexer": "ipython3",
   "version": "3.10.8"
  }
 },
 "nbformat": 4,
 "nbformat_minor": 2
}
